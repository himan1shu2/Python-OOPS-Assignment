{
  "nbformat": 4,
  "nbformat_minor": 0,
  "metadata": {
    "colab": {
      "provenance": []
    },
    "kernelspec": {
      "name": "python3",
      "display_name": "Python 3"
    },
    "language_info": {
      "name": "python"
    }
  },
  "cells": [
    {
      "cell_type": "markdown",
      "source": [
        "\n",
        "1.What is Object-Oriented Programming (OOP)?\n",
        "  - OOPs is a programming language approach based on the use of classes and objects to structure software  in a clear and reuseable way.\n",
        "\n",
        "  -Object-Oriented Programming is a way of writing programs using objects, where each object represents a real-world entity (like a car, dog, person) and combines both data and functions related to that entity.\n",
        "\n",
        "2.What is a class in OOP?\n",
        "  - A class acts as a blueprint or template for creating objects.\n",
        "         class Dog:            # Class\n",
        "              def bark(self):   # Method\n",
        "                  print(\"Dog barks\")\n",
        "\n",
        "         d = Dog()             # Object banaya\n",
        "         d.bark()              # Method call kiya\n",
        "\n",
        "3.What is an object in OOP?\n",
        "  - A object is an instance of a class.\n",
        "  -An object is something that is created based on a class, and it stores actual data and can perform actions defined in the class.\n",
        "         class Car:\n",
        "              def start(self):\n",
        "                  print(\"Car is starting...\")\n",
        "\n",
        "        my_car = Car()     # ← This is an object\n",
        "        my_car.start()     # Using method from class\n",
        "\n",
        "        Output = Car is starting...\n",
        "\n",
        "4.What is the difference between abstraction and encapsulation?\n",
        "  - Abstraction:\n",
        "    - → \"What to show?\"\n",
        "        - → Shows only relevant things to the user, hides the rest.\n",
        "\n",
        "  - Encapsulation:\n",
        "    - → \"How to protect?\"\n",
        "       - → Wraps code and data together, and keeps internal state safe.\n",
        "\n",
        "\n",
        "5.What are dunder methods in Python?\n",
        "  - Dunder methods allow you to customize behavior of your objects — such as how they are created, printed, compared, or used with operators.\n",
        "\n",
        "  - Dunder methods (short for \"double underscore\" methods) are special built-in methods in Python that start and end with double underscores, like:\n",
        "\n",
        "```\n",
        "__init__(), __str__(), __len__(), __add__(), etc.\n",
        "```\n",
        "  - They are also called:\n",
        "     - Magic methods\n",
        "     - Special methods\n",
        "\n",
        "           class Book:\n",
        "                def __init__(self, title):\n",
        "                   self.title = title\n",
        "\n",
        "                def __str__(self):\n",
        "                    return f\"Book: {self.title}\"\n",
        "\n",
        "           book1 = Book(\"Python Basics\")\n",
        "           print(book1)  # Uses __str__()\n",
        "\n",
        "6.Explain the concept of inheritance in OOP?\n",
        "  - Inheritance is the fundamental concept in oops that allows a class (child/derived class) to acquire the properties and behaviour of another class(base/parent class).\n",
        "    \n",
        "         class Animal:                 # Parent class\n",
        "              def speak(self):\n",
        "                  print(\"Animal speaks\")\n",
        "\n",
        "         class Dog(Animal):            # Child class inherits from Animal\n",
        "               def bark(self):\n",
        "                   print(\"Dog barks\")\n",
        "\n",
        "         d = Dog()\n",
        "         d.speak()   # Inherited method from Animal\n",
        "         d.bark()    # Own method of Dog\n",
        "      \n",
        "         output = Animal speaks\n",
        "                  Dog barks\n",
        "\n",
        "           \n",
        "7.What is polymorphism in OOP?\n",
        "  - Polymorphism is an OOP concept where the same function or method behaves differently for different objects.\n",
        "  - Polymorphism means “many forms.”\n",
        "\n",
        "  - Example: Imagine a method called sound():\n",
        "     - For a Dog object, it will bark.\n",
        "     - For a Cat object, it will meow.\n",
        "       \n",
        "            class Dog:\n",
        "              def sound(self):\n",
        "                  print(\"Bark\")\n",
        "\n",
        "            class Cat:\n",
        "              def sound(self):\n",
        "                   print(\"Meow\")\n",
        "\n",
        "            def make_sound(animal):\n",
        "                  animal.sound()  # Yahan same method har object ke liye alag behave karega\n",
        "\n",
        "           dog = Dog()\n",
        "           cat = Cat()\n",
        "\n",
        "           make_sound(dog)  # Output: Bark\n",
        "           make_sound(cat)  # Output: Meow\n",
        "\n",
        "\n",
        "8.How is encapsulation achieved in Python?\n",
        "  - Encapsulation means wrapping data (variables) and methods (functions) into a single unit (class) and restricting direct access to some of the object’s components to protect the integrity of data.\n",
        "\n",
        "| Modifier   | Description                                | How to use in Python                     |\n",
        "|------------|--------------------------------------------|-----------------------------------------|\n",
        "| Public     | Accessible from anywhere                    | Normal variables & methods               |\n",
        "| Protected  | Accessible within class and subclasses (by convention) | Prefix name with single underscore `_var` |\n",
        "| Private    | Accessible only within class                | Prefix name with double underscore `__var` |\n",
        "\n",
        "\n",
        "     class Student:\n",
        "           def __init__(self, name, marks):\n",
        "              self.name = name          # Public attribute\n",
        "              self._marks = marks       # Protected attribute (by convention)\n",
        "              self.__grade = None       # Private attribute\n",
        "\n",
        "           def set_grade(self, grade):\n",
        "              self.__grade = grade      # Access private attribute within class\n",
        "   \n",
        "           def get_grade(self):\n",
        "              return self.__grade       # Provide controlled access\n",
        "\n",
        "     s = Student(\"Amit\", 85)\n",
        "     print(s.name)          # Public - accessible\n",
        "     print(s._marks)        # Protected - accessible but should not be accessed directly (convention)\n",
        "     # print(s.__grade)     # Error: private attribute\n",
        "     print(s.get_grade())   # Access private attribute via method\n",
        "\n",
        "     s.set_grade('A')\n",
        "     print(s.get_grade())\n",
        "\n",
        "Summary -\n",
        "   - Public: Can be accessed anywhere\n",
        "   - Protected: Should not be accessed outside class/subclass (convention).\n",
        "   - Private: Name mangled and can't be accessed directly outside the class.\n",
        "   - Use getter and setter methods to access private data safely.\n",
        "\n",
        "9.What is a constructor in Python?\n",
        "  - A constructor is a method that automatically runs when you create an object of a class. It is used to set initial values for the object.\n",
        "  - A constructor in Python is a special method used to initialize objects when a class is created.\n",
        "  - Constructor Method is:\n",
        "        __init__(self)\n",
        "```\n",
        " class Student:\n",
        "       def __init__(self, name, age):  # Constructor\n",
        "           self.name = name\n",
        "           self.age = age\n",
        "\n",
        "       def show(self):\n",
        "           print(f\"Name: {self.name}, Age: {self.age}\")\n",
        "\n",
        "  s1 = Student(\"Amit\", 20)  # Constructor runs here\n",
        "  s1.show()\n",
        "```\n",
        "\n",
        "10.What are class and static methods in Python?\n",
        "   - Both @classmethod and @staticmethod are special types of methods in Python that are used inside classes but behave differently from regular (instance) methods.\n",
        "\n",
        "   - Class Method - A class method is a method that works with the class itself, not with an instance. It has access to the class-level data.\n",
        "\n",
        "      - Syntax -\n",
        "              @classmethod\n",
        "              def method_name(cls):\n",
        "                    # cls refers to the class itself\n",
        "   - Static Method - A static method is a method that doesn't depend on class or instance. It’s like a regular function placed inside a class for better organization.\n",
        "\n",
        "       - Syntax -\n",
        "                @staticmethod\n",
        "                def method_name():\n",
        "                    # No self or cls\n",
        "\n",
        "11.What is method overloading in Python?\n",
        "   - Method Overloading means defining multiple methods with the same name but different parameters (number or type).\n",
        "\n",
        "   - This concept is common in languages like Java or C++, but in Python, method overloading is not natively supported.\n",
        "   \n",
        "   - In Python, if you define multiple methods with the same name, the last one overrides the previous ones.\n",
        "     \n",
        "\n",
        "    class Test:\n",
        "        def greet(self):\n",
        "             print(\"Hello\")\n",
        "\n",
        "        def greet(self, name):   # This overwrites the first greet()\n",
        "            print(\"Hello\", name)\n",
        "\n",
        "    t = Test()\n",
        "    t.greet(\"Amit\")  # Output: Hello Amit\n",
        "    # t.greet()      # Error: missing 1 required argument\n",
        "\n",
        "12.What is method overriding in OOP?\n",
        "   - In Object-Oriented Programming (OOP), method overriding in Python means redefining a method in a child class that already exists in the parent class.\n",
        "\n",
        "   - This allows the child class to provide a specific behavior while keeping the same method name, parameters, and logic structure.\n",
        "\n",
        "   -Key Points:\n",
        "      - Method names must be the same.\n",
        "      - Parameters (usually self) should match.\n",
        "      - It supports runtime polymorphism.\n",
        "      - Only works with inheritance.\n",
        "\n",
        "```\n",
        "class Animal:\n",
        "    def speak(self):\n",
        "        print(\"Animal speaks\")\n",
        "\n",
        "class Dog(Animal):\n",
        "    def speak(self):  # Overriding the speak() method\n",
        "        print(\"Dog barks\")\n",
        "\n",
        "# Usage\n",
        "a = Animal()\n",
        "d = Dog()\n",
        "\n",
        "a.speak()  # Output: Animal speaks\n",
        "d.speak()  # Output: Dog barks\n",
        "```\n",
        "\n",
        "13.What is a property decorator in Python?\n",
        "   - In Python, the @property decorator is used to define a method that can be accessed like an attribute—without using parentheses ()—while still allowing getter, setter, and deleter functionality.\n",
        "\n",
        "```\n",
        "class Circle:\n",
        "    def __init__(self, radius):\n",
        "        self._radius = radius\n",
        "\n",
        "    @property\n",
        "    def radius(self):\n",
        "        return self._radius\n",
        "\n",
        "# Usage\n",
        "c = Circle(5)\n",
        "print(c.radius)  # Accessing like an attribute\n",
        "\n",
        "output = 5\n",
        "```   \n",
        "\n",
        "14.Why is polymorphism important in OOP?\n",
        "   - Why Polymorphism Is Important:\n",
        "       1. Code Reusability -\n",
        "You can write general-purpose functions or methods that work with objects of different types, as long as they share a common interface (e.g., method names).\n",
        "\n",
        "       2. Flexibility -\n",
        "You can change the behavior of methods depending on the object’s class without changing the code that uses them.\n",
        "\n",
        "       3. Scalability -\n",
        "You can add new classes that implement existing methods without modifying the original code (Open/Closed Principle).\n",
        "\n",
        "       4. Cleaner Code -\n",
        "Avoids large if-else or switch statements based on object types. The correct method is chosen at runtime automatically.\n",
        "\n",
        "15.What is an abstract class in Python?\n",
        "  - In Python, an abstract class is a class that cannot be instantiated directly and is meant to be inherited by other classes. It can define abstract methods (methods with no implementation) that must be implemented in child classes.\n",
        "\n",
        "  - Python provides this feature using the abc module (abc stands for Abstract Base Classes).\n",
        "\n",
        "  - Note: Use @abstractmethod to declare abstract methods.\n",
        "\n",
        "\n",
        "16.What are the advantages of OOP?\n",
        "  - Avantages of Object-Oriented Programming (OOP):\n",
        "       - Modularity\n",
        "          - Code is organized into separate classes/objects.\n",
        "          - Easier to manage, debug, and understand.\n",
        "       - Reusability\n",
        "          - Use existing classes in new programs via inheritance.\n",
        "          - Avoids duplication of code.\n",
        "       - Encapsulation\n",
        "          - Keeps data safe by hiding internal details.\n",
        "          - Exposes only what is necessary (via public methods).\n",
        "       - Abstraction\n",
        "          - Hides complex details, shows only essential features.\n",
        "          - Simplifies interaction with objects.\n",
        "       - Polymorphism\n",
        "          - Same method name can behave differently in different classes.\n",
        "          - Helps in writing flexible and extendable code.\n",
        "       -  Ease of Maintenance\n",
        "          - Changes in one part of the program have minimal effect elsewhere.\n",
        "          - Easier to update or fix bugs.\n",
        "       - Scalability\n",
        "          - New features or classes can be added easily without disturbing existing code.\n",
        "       - Real-world Mapping\n",
        "          - Objects in code can represent real-world entities.\n",
        "          - Makes the program more relatable and understandable.\n",
        "\n",
        "\n",
        "17.What is the difference between a class variable and an instance variable?\n",
        "  - Class Variable -\n",
        "      - Belongs to the class itself.\n",
        "      - Shared by all instances of the class.\n",
        "      - Defined outside any method, usually at the top of the class.\n",
        "\n",
        "```\n",
        "class Dog:\n",
        "    species = \"Canine\"  # Class variable\n",
        "\n",
        "    def __init__(self, name):\n",
        "        self.name = name  # Instance variable\n",
        "```        \n",
        "   - Instance Variable -\n",
        "      - Belongs to the specific object (instance).\n",
        "      - Unique for each instance.\n",
        "      - Defined inside the __init__ method (or other instance methods) using self.\n",
        "```\n",
        "dog1 = Dog(\"Tommy\")\n",
        "dog2 = Dog(\"Bruno\")\n",
        "print(dog1.name)     # Tommy (instance variable)\n",
        "print(dog2.name)     # Bruno (instance variable)\n",
        "print(dog1.species)  # Canine (class variable)\n",
        "print(dog2.species)  # Canine (class variable)\n",
        "```\n",
        "\n",
        "18.What is multiple inheritance in Python?\n",
        "   - Multiple inheritance is a feature in Python where a class can inherit from more than one parent class. This allows a child class to access the methods and attributes of all parent classes.\n",
        "\n",
        "   - Syntax Example -\n",
        "```\n",
        "class Father:\n",
        "    def skills(self):\n",
        "        print(\"Driving, Gardening\")\n",
        "class Mother:\n",
        "    def skills(self):\n",
        "        print(\"Cooking, Art\")\n",
        "class Child(Father, Mother):  # Multiple Inheritance\n",
        "    pass\n",
        "c = Child()\n",
        "c.skills()  # Output: Driving, Gardening (method resolution order)\n",
        "```\n",
        "\n",
        "19.Explain the purpose of ‘’\\_\\_str__’ and ‘\\__repr__’ ‘ methods in Python?\n",
        "   - \\_\\_str__ method -\n",
        "      - Provides a user-friendly or informal string representation of the object.\n",
        "      - Used by the built-in str() function and when you print an object.\n",
        "      - Meant to be readable and descriptive for end users.\n",
        "\n",
        "```\n",
        "class Person:\n",
        "    def __init__(self, name, age):\n",
        "        self.name = name\n",
        "        self.age = age\n",
        "\n",
        "    def __str__(self):\n",
        "        return f\"{self.name} is {self.age} years old\"\n",
        "\n",
        "p = Person(\"Alice\", 30)\n",
        "print(p)          # Output: Alice is 30 years old\n",
        "print(str(p))     # Same output\n",
        "```\n",
        "\n",
        "  - \\_\\_repr__ method -\n",
        "    - Provides an official or developer-friendly string representation of the object.\n",
        "    - Used by the built-in repr() function and in the Python interactive shell.\n",
        "    \n",
        "    - Ideally, the string returned by __repr__ should be a valid Python expression that can be used to recreate the object (if possible).\n",
        "```\n",
        "class Person:\n",
        "    def __init__(self, name, age):\n",
        "        self.name = name\n",
        "        self.age = age\n",
        "    def __repr__(self):\n",
        "        return f\"Person('{self.name}', {self.age})\"\n",
        "p = Person(\"Alice\", 30)\n",
        "print(repr(p))    # Output: Person('Alice', 30)\n",
        "```\n",
        "\n",
        "20.What is the significance of the ‘super()’ function in Python?\n",
        "  - The super() function returns a temporary object of the parent class that allows you to call its methods. It’s commonly used in inheritance to access or extend the functionality of the parent class.\n",
        "  - Significance of super()\n",
        "     - Access Parent Class Methods -\n",
        "        - Lets you call a method from the parent class without explicitly naming the parent class.\n",
        "        - Useful especially in multiple inheritance where explicit naming can get complicated.\n",
        "\n",
        "     - Avoids Hardcoding Parent Class Name -\n",
        "       - Makes your code more maintainable and flexible (if parent class name changes, you don't need to update).\n",
        "     - Supports Cooperative Multiple Inheritance -\n",
        "       - Works with Python’s Method Resolution Order (MRO) to ensure each parent’s method is called appropriately.\n",
        "\n",
        "     - Simplifies Code -\n",
        "       - Helps in calling parent class constructors (__init__) cleanly.\n",
        "\n",
        "21.What is the significance of the \\_\\_del__ method in Python?\n",
        "  - \\_\\_del__ -\n",
        "     - It is a special destructor method in Python.\n",
        "     - It is called when an object is about to be destroyed (garbage collected).\n",
        "     \n",
        "     - Used to clean up resources like closing files, network connections, or releasing memory.\n",
        "       \n",
        "  - Significance of  \\_\\_del__  -\n",
        "     - Resource Cleanup -\n",
        "        - Automatically performs cleanup when an object is no longer needed.\n",
        "     - Custom Destruction Behavior -\n",
        "        - Allows you to define actions that must happen before an object is deleted.\n",
        "     - Helpful in Managing External Resources -\n",
        "        - Such as closing database connections or files that won’t be managed by Python’s garbage collector.\n",
        "\n",
        "22.What is the difference between @staticmethod and @classmethod in Python?\n",
        "   - @staticmethod -\n",
        "     - A method that does not receive an implicit first argument (neither self nor cls).It behaves like a regular function but lives inside the class namespace.\n",
        "     - Cannot access or modify the class state or instance state.\n",
        "     - Called using the class name or instance, but no class or instance information is passed automatically.\n",
        "\n",
        "```\n",
        "class Math:\n",
        "    @staticmethod\n",
        "    def add(x, y):\n",
        "        return x + y\n",
        "\n",
        "print(Math.add(5, 3))  # Output: 8\n",
        "```\n",
        "\n",
        "   - @classmethod -\n",
        "        - A method that receives the class itself as the first argument (cls).\n",
        "        - Can access or modify class state that applies across all instances.\n",
        "        - Useful for factory methods or methods that need to know the class they belong to.\n",
        "\n",
        "```\n",
        "class Person:\n",
        "    count = 0\n",
        "\n",
        "    def __init__(self, name):\n",
        "        self.name = name\n",
        "        Person.count += 1\n",
        "\n",
        "    @classmethod\n",
        "    def get_count(cls):\n",
        "        return cls.count\n",
        "\n",
        "p1 = Person(\"Alice\")\n",
        "p2 = Person(\"Bob\")\n",
        "print(Person.get_count())  # Output: 2\n",
        "\n",
        "```        \n",
        "\n",
        "23.How does polymorphism work in Python with inheritance?\n",
        "   - Polymorphism + Inheritance = Powerful OOP\n",
        "      - In Python, polymorphism allows different classes to define methods with the same name, and inheritance ensures that these classes can be treated as objects of a common parent class.\n",
        "      - This means you can write code that works on the parent class, but it will automatically use the child class’s overridden method at runtime.\n",
        "   - How It Works:\n",
        "      - You create a base (parent) class with a method.\n",
        "      - You create child classes that override that method.\n",
        "      - You use the same method call, but it behaves differently depending on the object type.\n",
        "\n",
        "```\n",
        "class Animal:\n",
        "    def speak(self):\n",
        "        print(\"Animal speaks\")\n",
        "\n",
        "class Dog(Animal):\n",
        "    def speak(self):\n",
        "        print(\"Dog barks\")\n",
        "\n",
        "class Cat(Animal):\n",
        "    def speak(self):\n",
        "        print(\"Cat meows\")\n",
        "\n",
        "# Polymorphism in action\n",
        "def make_animal_speak(animal):\n",
        "    animal.speak()\n",
        "\n",
        "# All are treated as Animal\n",
        "animals = [Dog(), Cat(), Animal()]\n",
        "for a in animals:\n",
        "\n",
        "Output =\n",
        "Dog barks\n",
        "Cat meows\n",
        "Animal speaks\n",
        "    make_animal_speak(a)\n",
        "```\n",
        "24.What is method chaining in Python OOP?\n",
        "  - Method chaining is a technique where multiple methods are called sequentially on the same object, in a single line.\n",
        "  - Each method returns the object (self), allowing the next method to be called.\n",
        "```\n",
        "class Person:\n",
        "    def __init__(self, name=\"\"):\n",
        "        self.name = name\n",
        "\n",
        "    def set_name(self, name):\n",
        "        self.name = name\n",
        "        return self  # Enables chaining\n",
        "\n",
        "    def greet(self):\n",
        "        print(f\"Hello, my name is {self.name}\")\n",
        "        return self  # Enables chaining\n",
        "# Method chaining in action\n",
        "person = Person().set_name(\"Alice\").greet()\n",
        "```\n",
        "\n",
        "25.What is the purpose of the __call__ method in Python?\n",
        "   - The __call__ method makes an instance of a class callable like a function.\n",
        "   - When you write object(), Python internally calls object.__call__().\n",
        "\n",
        "```\n",
        "class Greeter:\n",
        "    def __init__(self, name):\n",
        "        self.name = name\n",
        "\n",
        "    def __call__(self):\n",
        "        print(f\"Hello, {self.name}!\")\n",
        "\n",
        "g = Greeter(\"Bob\")\n",
        "g()  # This calls g.__call__(), output: Hello, Bob!\n",
        "\n",
        "```\n",
        "\n",
        "\n",
        "\n",
        "\n",
        "\n",
        "\n",
        "\n",
        "\n",
        "\n",
        "\n",
        "\n",
        "\n",
        "                    \n",
        "\n",
        "           \n",
        "\n",
        "\n"
      ],
      "metadata": {
        "id": "CryOmQ6GAsv6"
      }
    },
    {
      "cell_type": "code",
      "execution_count": 1,
      "metadata": {
        "id": "6U39YLa6AblH",
        "colab": {
          "base_uri": "https://localhost:8080/"
        },
        "outputId": "ee86de33-b320-4018-fbb0-b8e314a426d9"
      },
      "outputs": [
        {
          "output_type": "stream",
          "name": "stdout",
          "text": [
            "The animal makes a sound.\n",
            "Bark!\n"
          ]
        }
      ],
      "source": [
        "#Q1.Create a parent class Animal with a method speak() that prints a generic message. Create a child class Dog that overrides the speak() method to print \"Bark!\".\n",
        "class Animal:\n",
        "    def speak(self):\n",
        "        print(\"The animal makes a sound.\")\n",
        "\n",
        "class Dog(Animal):\n",
        "    def speak(self):\n",
        "        print(\"Bark!\")\n",
        "\n",
        "\n",
        "generic_animal = Animal()\n",
        "generic_animal.speak()\n",
        "\n",
        "dog = Dog()\n",
        "dog.speak()\n"
      ]
    },
    {
      "cell_type": "code",
      "source": [
        "#Q2.Write a program to create an abstract class Shape with a method area(). Derive classes Circle and Rectangle from it and implement the area() method in both.\n",
        "from abc import ABC, abstractmethod\n",
        "import math\n",
        "\n",
        "class Shape(ABC):\n",
        "    @abstractmethod\n",
        "    def area(self): pass\n",
        "\n",
        "class Circle(Shape):\n",
        "    def __init__(self, r): self.r = r\n",
        "    def area(self): return math.pi * self.r**2\n",
        "\n",
        "class Rectangle(Shape):\n",
        "    def __init__(self, w, h): self.w = w; self.h = h\n",
        "    def area(self): return self.w * self.h\n",
        "\n",
        "# Test\n",
        "print(f\"Circle Area: {Circle(5).area():.2f}\")\n",
        "print(f\"Rectangle Area: {Rectangle(4, 6).area()}\")\n"
      ],
      "metadata": {
        "colab": {
          "base_uri": "https://localhost:8080/"
        },
        "id": "jrH0JKiExD6D",
        "outputId": "5caf32c2-d001-44c9-ddba-aa7dc47008b8"
      },
      "execution_count": 3,
      "outputs": [
        {
          "output_type": "stream",
          "name": "stdout",
          "text": [
            "Circle Area: 78.54\n",
            "Rectangle Area: 24\n"
          ]
        }
      ]
    },
    {
      "cell_type": "code",
      "source": [
        "#3. Implement a multi-level inheritance scenario where a class Vehicle has an attribute type. Derive a class Car and further derive a class ElectricCar that adds a battery attribute.\n",
        "class Vehicle:\n",
        "    def __init__(self, vehicle_type):\n",
        "        self.type = vehicle_type\n",
        "\n",
        "class Car(Vehicle):\n",
        "    def __init__(self, vehicle_type, brand):\n",
        "        super().__init__(vehicle_type)\n",
        "        self.brand = brand\n",
        "\n",
        "class ElectricCar(Car):\n",
        "    def __init__(self, vehicle_type, brand, battery):\n",
        "        super().__init__(vehicle_type, brand)\n",
        "        self.battery = battery\n",
        "\n",
        "# Example\n",
        "ecar = ElectricCar(\"Electric\", \"Tesla\", \"75 kWh\")\n",
        "print(ecar.type)     # Output: Electric\n",
        "print(ecar.brand)    # Output: Tesla\n",
        "print(ecar.battery)  # Output: 75 kWh\n"
      ],
      "metadata": {
        "colab": {
          "base_uri": "https://localhost:8080/"
        },
        "id": "dIGqSumyxmtC",
        "outputId": "c9665d12-8927-4363-acbd-3c2f4c6aae89"
      },
      "execution_count": 5,
      "outputs": [
        {
          "output_type": "stream",
          "name": "stdout",
          "text": [
            "Electric\n",
            "Tesla\n",
            "75 kWh\n"
          ]
        }
      ]
    },
    {
      "cell_type": "code",
      "source": [
        "#4. Demonstrate polymorphism by creating a base class Bird with a method fly(). Create two derived classes Sparrow and Penguin that override the fly() method.\n",
        "class Bird:\n",
        "    def fly(self):\n",
        "        print(\"Bird is flying\")\n",
        "\n",
        "class Sparrow(Bird):\n",
        "    def fly(self):\n",
        "        print(\"Sparrow flies high\")\n",
        "\n",
        "class Penguin(Bird):\n",
        "    def fly(self):\n",
        "        print(\"Penguin can't fly\")\n",
        "\n",
        "birds = [Sparrow(), Penguin()]\n",
        "\n",
        "for bird in birds:\n",
        "    bird.fly()"
      ],
      "metadata": {
        "colab": {
          "base_uri": "https://localhost:8080/"
        },
        "id": "PPAIIFH7yZ_f",
        "outputId": "f1eb1a94-6d46-4ed9-fd1d-612331b40c7b"
      },
      "execution_count": 6,
      "outputs": [
        {
          "output_type": "stream",
          "name": "stdout",
          "text": [
            "Sparrow flies high\n",
            "Penguin can't fly\n"
          ]
        }
      ]
    },
    {
      "cell_type": "code",
      "source": [
        "#5. Write a program to demonstrate encapsulation by creating a class BankAccount with private attributes balance and methods to deposit, withdraw, and check balance.\n",
        "class BankAccount:\n",
        "    def __init__(self, initial_balance=0):\n",
        "        self.__balance = initial_balance  # private attribute\n",
        "\n",
        "    def deposit(self, amount):\n",
        "        if amount > 0:\n",
        "            self.__balance += amount\n",
        "            print(f\"Deposited: {amount}\")\n",
        "        else:\n",
        "            print(\"Invalid deposit amount.\")\n",
        "\n",
        "    def withdraw(self, amount):\n",
        "        if 0 < amount <= self.__balance:\n",
        "            self.__balance -= amount\n",
        "            print(f\"Withdrawn: {amount}\")\n",
        "        else:\n",
        "            print(\"Invalid or insufficient balance.\")\n",
        "\n",
        "    def check_balance(self):\n",
        "        print(f\"Current Balance: {self.__balance}\")\n",
        "\n",
        "# Example usage\n",
        "account = BankAccount(1000)\n",
        "account.deposit(500)\n",
        "account.withdraw(300)\n",
        "account.check_balance()"
      ],
      "metadata": {
        "colab": {
          "base_uri": "https://localhost:8080/"
        },
        "id": "iwciTyqvymll",
        "outputId": "05eda5f2-0856-4090-9162-04e7f400820b"
      },
      "execution_count": 7,
      "outputs": [
        {
          "output_type": "stream",
          "name": "stdout",
          "text": [
            "Deposited: 500\n",
            "Withdrawn: 300\n",
            "Current Balance: 1200\n"
          ]
        }
      ]
    },
    {
      "cell_type": "code",
      "source": [
        "#6. Demonstrate runtime polymorphism using a method play() in a base class Instrument. Derive classes Guitar and Piano that implement their own version of play().\n",
        "class Instrument:\n",
        "    def play(self):\n",
        "        print(\"Instrument is playing\")\n",
        "\n",
        "class Guitar(Instrument):\n",
        "    def play(self):\n",
        "        print(\"Guitar is strumming\")\n",
        "\n",
        "class Piano(Instrument):\n",
        "    def play(self):\n",
        "        print(\"Piano is playing melody\")\n",
        "\n",
        "instruments = [Guitar(), Piano()]\n",
        "\n",
        "for inst in instruments:\n",
        "    inst.play()"
      ],
      "metadata": {
        "colab": {
          "base_uri": "https://localhost:8080/"
        },
        "id": "iyNbb17YyqK0",
        "outputId": "b8d90324-dcb7-4ee3-e5a8-b163de8e1c9f"
      },
      "execution_count": 8,
      "outputs": [
        {
          "output_type": "stream",
          "name": "stdout",
          "text": [
            "Guitar is strumming\n",
            "Piano is playing melody\n"
          ]
        }
      ]
    },
    {
      "cell_type": "code",
      "source": [
        "#7. Create a class MathOperations with a class method add_numbers() to add two numbers and a static method subtract_numbers() to subtract two numbers.\n",
        "class MathOperations:\n",
        "    @classmethod\n",
        "    def add_numbers(cls, a, b):\n",
        "        return a + b\n",
        "\n",
        "    @staticmethod\n",
        "    def subtract_numbers(a, b):\n",
        "        return a - b\n",
        "\n",
        "# Example usage\n",
        "print(\"Addition:\", MathOperations.add_numbers(10, 5))\n",
        "print(\"Subtraction:\", MathOperations.subtract_numbers(10, 5))\n"
      ],
      "metadata": {
        "colab": {
          "base_uri": "https://localhost:8080/"
        },
        "id": "fmOOT_kiyvYe",
        "outputId": "9abf94a6-2ea0-46ce-b8e9-99768df2419b"
      },
      "execution_count": 9,
      "outputs": [
        {
          "output_type": "stream",
          "name": "stdout",
          "text": [
            "Addition: 15\n",
            "Subtraction: 5\n"
          ]
        }
      ]
    },
    {
      "cell_type": "code",
      "source": [
        "#8. Implement a class Person with a class method to count the total number of persons created.\n",
        "class Person:\n",
        "    count = 0  # class variable to keep track\n",
        "\n",
        "    def __init__(self, name):\n",
        "        self.name = name\n",
        "        Person.count += 1  # increment count whenever a new person is created\n",
        "\n",
        "    @classmethod\n",
        "    def total_persons(cls):\n",
        "        return cls.count\n",
        "\n",
        "# Example usage\n",
        "p1 = Person(\"Alice\")\n",
        "p2 = Person(\"Bob\")\n",
        "p3 = Person(\"Charlie\")\n",
        "\n",
        "print(\"Total persons created:\", Person.total_persons())\n"
      ],
      "metadata": {
        "colab": {
          "base_uri": "https://localhost:8080/"
        },
        "id": "yMLZgmzVy34t",
        "outputId": "8e0b9f9e-eca5-4ba9-ed4b-e486dee74996"
      },
      "execution_count": 10,
      "outputs": [
        {
          "output_type": "stream",
          "name": "stdout",
          "text": [
            "Total persons created: 3\n"
          ]
        }
      ]
    },
    {
      "cell_type": "code",
      "source": [
        "#9. Write a class Fraction with attributes numerator and denominator. Override the str method to display the fraction as \"numerator/denominator\".\n",
        "class Fraction:\n",
        "    def __init__(self, numerator, denominator):\n",
        "        self.numerator = numerator\n",
        "        self.denominator = denominator\n",
        "\n",
        "    def __str__(self):\n",
        "        return f\"{self.numerator}/{self.denominator}\"\n",
        "\n",
        "\n",
        "f = Fraction(3, 4)\n",
        "print(f)\n"
      ],
      "metadata": {
        "colab": {
          "base_uri": "https://localhost:8080/"
        },
        "id": "_kr7pXzfy6Rz",
        "outputId": "7ff8b066-66ff-46b8-8c85-4710741d8fcf"
      },
      "execution_count": 11,
      "outputs": [
        {
          "output_type": "stream",
          "name": "stdout",
          "text": [
            "3/4\n"
          ]
        }
      ]
    },
    {
      "cell_type": "code",
      "source": [
        "#10. Demonstrate operator overloading by creating a class Vector and overriding the add method to add two vectors.\n",
        "class Vector:\n",
        "    def __init__(self, x, y):\n",
        "        self.x = x\n",
        "        self.y = y\n",
        "\n",
        "    def __add__(self, other):\n",
        "        return Vector(self.x + other.x, self.y + other.y)\n",
        "\n",
        "    def __str__(self):\n",
        "        return f\"({self.x}, {self.y})\"\n",
        "\n",
        "# Example\n",
        "v1 = Vector(2, 3)\n",
        "v2 = Vector(4, 5)\n",
        "v3 = v1 + v2\n",
        "print(v3)"
      ],
      "metadata": {
        "colab": {
          "base_uri": "https://localhost:8080/"
        },
        "id": "HI6wfKT4y9sj",
        "outputId": "a13b1985-193e-44dd-b31e-aa70e8905c92"
      },
      "execution_count": 12,
      "outputs": [
        {
          "output_type": "stream",
          "name": "stdout",
          "text": [
            "(6, 8)\n"
          ]
        }
      ]
    },
    {
      "cell_type": "code",
      "source": [
        "#11. Create a class Person with attributes name and age. Add a method greet() that prints \"Hello, my name is {name} and I am {age} years old.\"\n",
        "class Person:\n",
        "    def __init__(self, name, age):\n",
        "        self.name = name\n",
        "        self.age = age\n",
        "\n",
        "    def greet(self):\n",
        "        print(f\"Hello, my name is {self.name} and I am {self.age} years old.\")\n",
        "\n",
        "# Example\n",
        "p = Person(\"Alice\", 30)\n",
        "p.greet()\n",
        "\n"
      ],
      "metadata": {
        "colab": {
          "base_uri": "https://localhost:8080/"
        },
        "id": "40-RtmyLzBGO",
        "outputId": "332977bc-9e49-4427-c7bd-b578b08a0364"
      },
      "execution_count": 13,
      "outputs": [
        {
          "output_type": "stream",
          "name": "stdout",
          "text": [
            "Hello, my name is Alice and I am 30 years old.\n"
          ]
        }
      ]
    },
    {
      "cell_type": "code",
      "source": [
        "#12. Implement a class Student with attributes name and grades. Create a method average_grade() to compute the average of the grades.\n",
        "class Student:\n",
        "    def __init__(self, name, grades):\n",
        "        self.name = name\n",
        "        self.grades = grades  # list of numbers\n",
        "\n",
        "    def average_grade(self):\n",
        "        if not self.grades:\n",
        "            return 0\n",
        "        return sum(self.grades) / len(self.grades)\n",
        "\n",
        "# Example usage\n",
        "student = Student(\"Bob\", [85, 90, 78, 92])\n",
        "print(f\"{student.name}'s average grade is: {student.average_grade():.2f}\")\n"
      ],
      "metadata": {
        "colab": {
          "base_uri": "https://localhost:8080/"
        },
        "id": "ztoIraO3zHai",
        "outputId": "f60bc1f5-f572-4d3a-f68c-822575e4b3c2"
      },
      "execution_count": 14,
      "outputs": [
        {
          "output_type": "stream",
          "name": "stdout",
          "text": [
            "Bob's average grade is: 86.25\n"
          ]
        }
      ]
    },
    {
      "cell_type": "code",
      "source": [
        "#13. Create a class Rectangle with methods set_dimensions() to set the dimensions and area() to calculate the area.\n",
        "class Rectangle:\n",
        "    def __init__(self):\n",
        "        self.length = 0\n",
        "        self.width = 0\n",
        "\n",
        "    def set_dimensions(self, length, width):\n",
        "        self.length = length\n",
        "        self.width = width\n",
        "\n",
        "    def area(self):\n",
        "        return self.length * self.width\n",
        "\n",
        "# Example usage\n",
        "rect = Rectangle()\n",
        "rect.set_dimensions(5, 3)\n",
        "print(\"Area of rectangle:\", rect.area())"
      ],
      "metadata": {
        "colab": {
          "base_uri": "https://localhost:8080/"
        },
        "id": "i6bNRW14zHiW",
        "outputId": "5aa3e732-502c-42cd-dd04-0d31bfd7c513"
      },
      "execution_count": 15,
      "outputs": [
        {
          "output_type": "stream",
          "name": "stdout",
          "text": [
            "Area of rectangle: 15\n"
          ]
        }
      ]
    },
    {
      "cell_type": "code",
      "source": [
        "#14. Create a class Employee with a method calculate_salary() that computes the salary based on hours worked and hourly rate. Create a derived class Manager that adds a bonus to the salary.\n",
        "class Employee:\n",
        "    def __init__(self, name, hours_worked, hourly_rate):\n",
        "        self.name = name\n",
        "        self.hours_worked = hours_worked\n",
        "        self.hourly_rate = hourly_rate\n",
        "\n",
        "    def calculate_salary(self):\n",
        "        return self.hours_worked * self.hourly_rate\n",
        "\n",
        "class Manager(Employee):\n",
        "    def __init__(self, name, hours_worked, hourly_rate, bonus):\n",
        "        super().__init__(name, hours_worked, hourly_rate)\n",
        "        self.bonus = bonus\n",
        "\n",
        "    def calculate_salary(self):\n",
        "        base_salary = super().calculate_salary()\n",
        "        return base_salary + self.bonus\n",
        "\n",
        "# Example\n",
        "emp = Employee(\"John\", 40, 20)\n",
        "mgr = Manager(\"Alice\", 40, 20, 500)\n",
        "\n",
        "print(f\"{emp.name}'s salary: ${emp.calculate_salary()}\")\n",
        "print(f\"{mgr.name}'s salary: ${mgr.calculate_salary()}\")\n"
      ],
      "metadata": {
        "colab": {
          "base_uri": "https://localhost:8080/"
        },
        "id": "i31Fs9CzzHsQ",
        "outputId": "4ae76418-75a1-4866-b288-9c0d0402ec49"
      },
      "execution_count": 16,
      "outputs": [
        {
          "output_type": "stream",
          "name": "stdout",
          "text": [
            "John's salary: $800\n",
            "Alice's salary: $1300\n"
          ]
        }
      ]
    },
    {
      "cell_type": "code",
      "source": [
        "#15. Create a class Product with attributes name, price, and quantity. Implement a method total_price() that calculates the total price of the product.\n",
        "class Product:\n",
        "    def __init__(self, name, price, quantity):\n",
        "        self.name = name\n",
        "        self.price = price\n",
        "        self.quantity = quantity\n",
        "\n",
        "    def total_price(self):\n",
        "        return self.price * self.quantity\n",
        "\n",
        "# Example\n",
        "p = Product(\"Laptop\", 750, 3)\n",
        "print(f\"Total price for {p.quantity} {p.name}(s): ${p.total_price()}\")\n"
      ],
      "metadata": {
        "colab": {
          "base_uri": "https://localhost:8080/"
        },
        "id": "csATPbi3zH0Z",
        "outputId": "830709fc-fd99-4b90-9875-6a27cd2bc53e"
      },
      "execution_count": 17,
      "outputs": [
        {
          "output_type": "stream",
          "name": "stdout",
          "text": [
            "Total price for 3 Laptop(s): $2250\n"
          ]
        }
      ]
    },
    {
      "cell_type": "code",
      "source": [
        "#16. Create a class Animal with an abstract method sound(). Create two derived classes Cow and Sheep that implement the sound() method.\n",
        "from abc import ABC, abstractmethod\n",
        "\n",
        "class Animal(ABC):\n",
        "    @abstractmethod\n",
        "    def sound(self):\n",
        "        pass\n",
        "\n",
        "class Cow(Animal):\n",
        "    def sound(self):\n",
        "        print(\"Moo\")\n",
        "\n",
        "class Sheep(Animal):\n",
        "    def sound(self):\n",
        "        print(\"Baa\")\n",
        "\n",
        "# Example\n",
        "cow = Cow()\n",
        "sheep = Sheep()\n",
        "\n",
        "cow.sound()\n",
        "sheep.sound()\n"
      ],
      "metadata": {
        "colab": {
          "base_uri": "https://localhost:8080/"
        },
        "id": "p09gRuJ9zH7p",
        "outputId": "c23fff94-3a95-46c5-c85c-110558293aa5"
      },
      "execution_count": 18,
      "outputs": [
        {
          "output_type": "stream",
          "name": "stdout",
          "text": [
            "Moo\n",
            "Baa\n"
          ]
        }
      ]
    },
    {
      "cell_type": "code",
      "source": [
        "#17. Create a class Book with attributes title, author, and year_published. Add a method get_book_info() that returns a formatted string with the book's details.\n",
        "class Book:\n",
        "    def __init__(self, title, author, year_published):\n",
        "        self.title = title\n",
        "        self.author = author\n",
        "        self.year_published = year_published\n",
        "\n",
        "    def get_book_info(self):\n",
        "        return f\"'{self.title}' by {self.author}, published in {self.year_published}\"\n",
        "\n",
        "# Example\n",
        "book = Book(\"To Kill a Mockingbird\", \"Harper Lee\", 1960)\n",
        "print(book.get_book_info())\n"
      ],
      "metadata": {
        "colab": {
          "base_uri": "https://localhost:8080/"
        },
        "id": "IDh85UcvzID5",
        "outputId": "072192d1-d109-42c4-8445-71c700232422"
      },
      "execution_count": 19,
      "outputs": [
        {
          "output_type": "stream",
          "name": "stdout",
          "text": [
            "'To Kill a Mockingbird' by Harper Lee, published in 1960\n"
          ]
        }
      ]
    },
    {
      "cell_type": "code",
      "source": [
        "#18. Create a class House with attributes address and price. Create a derived class Mansion that adds an attribute number_of_rooms.\n",
        "class House:\n",
        "    def __init__(self, address, price):\n",
        "        self.address = address\n",
        "        self.price = price\n",
        "\n",
        "class Mansion(House):\n",
        "    def __init__(self, address, price, number_of_rooms):\n",
        "        super().__init__(address, price)\n",
        "        self.number_of_rooms = number_of_rooms\n",
        "\n",
        "# Example\n",
        "house = House(\"123 Maple St\", 250000)\n",
        "mansion = Mansion(\"456 Oak Ave\", 1500000, 10)\n",
        "\n",
        "print(f\"House address: {house.address}, Price: ${house.price}\")\n",
        "print(f\"Mansion address: {mansion.address}, Price: ${mansion.price}, Rooms: {mansion.number_of_rooms}\")\n"
      ],
      "metadata": {
        "colab": {
          "base_uri": "https://localhost:8080/"
        },
        "id": "mz-oCw8JzILO",
        "outputId": "b45b90da-ada2-4dbe-cb2a-9803a518ac97"
      },
      "execution_count": 21,
      "outputs": [
        {
          "output_type": "stream",
          "name": "stdout",
          "text": [
            "House address: 123 Maple St, Price: $250000\n",
            "Mansion address: 456 Oak Ave, Price: $1500000, Rooms: 10\n"
          ]
        }
      ]
    }
  ]
}